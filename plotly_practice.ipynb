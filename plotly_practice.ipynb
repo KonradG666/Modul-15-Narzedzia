{
 "cells": [
  {
   "cell_type": "markdown",
   "id": "noted-payday",
   "metadata": {},
   "source": [
    "# Zadanie: wykresy\n",
    "Stworzyliśmy już wizualizację pensji naszych czterech nieszczęśników, korzystając z matplotlib. Spróbuj użyć teraz plotly. Typem obiektu do wykresu będzie obiekt typu go.Bar. Efekt powinien wyglądać mniej więcej tak:\n",
    "\n"
   ]
  },
  {
   "cell_type": "code",
   "execution_count": null,
   "id": "moving-fault",
   "metadata": {},
   "outputs": [],
   "source": [
    "import plotly.graph_objects as go\n",
    "X = [0,1,2,3]\n",
    "Y = [0,1,0,1]\n",
    "\n",
    "data = go.Scatter(x=X, y=Y)\n",
    "layout = {\n",
    "\t'title': 'Zigzag with plotly'\n",
    "}\n",
    "fig = go.Figure(data, layout)\n",
    "fig.show()"
   ]
  },
  {
   "cell_type": "code",
   "execution_count": null,
   "id": "correct-hotel",
   "metadata": {},
   "outputs": [],
   "source": []
  },
  {
   "cell_type": "code",
   "execution_count": null,
   "id": "hungarian-chosen",
   "metadata": {},
   "outputs": [],
   "source": [
    "import matplotlib.pyplot as plt\n",
    "\n",
    "y = names\n",
    "x = salary_values\n",
    "\n",
    "plt.title('Salaries')\n",
    "plt.ylabel('Employee')\n",
    "plt.xlabel('Salary in zł')\n",
    "plt.barh(y,x)\n",
    "\n",
    "\n",
    "X = [0,1,2,3]\n",
    "Y = [0,1,0,1]\n",
    "\n",
    "data = go.Scatter(x=X, y=Y)\n",
    "layout = {\n",
    "\t'title': 'Zigzag with plotly'\n",
    "}\n",
    "fig = go.Figure(data, layout)\n",
    "fig.show()"
   ]
  },
  {
   "cell_type": "code",
   "execution_count": null,
   "id": "comprehensive-drunk",
   "metadata": {},
   "outputs": [],
   "source": []
  }
 ],
 "metadata": {
  "kernelspec": {
   "display_name": "Python 3",
   "language": "python",
   "name": "python3"
  },
  "language_info": {
   "codemirror_mode": {
    "name": "ipython",
    "version": 3
   },
   "file_extension": ".py",
   "mimetype": "text/x-python",
   "name": "python",
   "nbconvert_exporter": "python",
   "pygments_lexer": "ipython3",
   "version": "3.9.0"
  }
 },
 "nbformat": 4,
 "nbformat_minor": 5
}
