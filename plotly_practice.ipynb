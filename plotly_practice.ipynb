{
 "cells": [
  {
   "cell_type": "markdown",
   "id": "dressed-raise",
   "metadata": {},
   "source": [
    "# Zadanie: wykresy\n",
    "Stworzyliśmy już wizualizację pensji naszych czterech nieszczęśników, korzystając z matplotlib. Spróbuj użyć teraz plotly. Typem obiektu do wykresu będzie obiekt typu go.Bar. Efekt powinien wyglądać mniej więcej tak:\n",
    "\n"
   ]
  },
  {
   "cell_type": "code",
   "execution_count": null,
   "id": "surprising-median",
   "metadata": {},
   "outputs": [],
   "source": [
    "import plotly.graph_objects as go\n",
    "X = [0,1,2,3]\n",
    "Y = [0,1,0,1]\n",
    "\n",
    "data = go.Scatter(x=X, y=Y)\n",
    "layout = {\n",
    "\t'title': 'Zigzag with plotly'\n",
    "}\n",
    "fig = go.Figure(data, layout)\n",
    "fig.show()"
   ]
  },
  {
   "cell_type": "code",
   "execution_count": null,
   "id": "sporting-occasion",
   "metadata": {},
   "outputs": [],
   "source": []
  },
  {
   "cell_type": "code",
   "execution_count": null,
   "id": "final-palestine",
   "metadata": {},
   "outputs": [],
   "source": [
    "import plotly.graph_objects as go\n",
    "\n",
    "salaries = [\n",
    "    (\"Mark\", 1000),\n",
    "    (\"John\", 1500),\n",
    "    (\"Daniel\", 2300),\n",
    "    (\"Greg\", 5000)\n",
    "]\n",
    "names = list(map(lambda tup:tup[0], salaries))\n",
    "salary_values = list(map(lambda tup:tup[1], salaries))\n",
    "data = go.Bar(x=names, y=salary_values)\n",
    "layout = {\n",
    "    'title': 'Salaries with plotly'\n",
    "}\n",
    "fig = go.Figure(data, layout)\n",
    "fig.show()"
   ]
  },
  {
   "cell_type": "code",
   "execution_count": null,
   "id": "integral-olympus",
   "metadata": {},
   "outputs": [],
   "source": []
  }
 ],
 "metadata": {
  "kernelspec": {
   "display_name": "Python 3",
   "language": "python",
   "name": "python3"
  },
  "language_info": {
   "codemirror_mode": {
    "name": "ipython",
    "version": 3
   },
   "file_extension": ".py",
   "mimetype": "text/x-python",
   "name": "python",
   "nbconvert_exporter": "python",
   "pygments_lexer": "ipython3",
   "version": "3.9.0"
  }
 },
 "nbformat": 4,
 "nbformat_minor": 5
}
